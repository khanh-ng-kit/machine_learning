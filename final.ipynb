{
 "cells": [
  {
   "cell_type": "markdown",
   "id": "b1f9ddd1",
   "metadata": {},
   "source": [
    "SET UP"
   ]
  },
  {
   "cell_type": "code",
   "execution_count": null,
   "id": "e3ada788",
   "metadata": {},
   "outputs": [],
   "source": [
    "# 1. IMPORT THƯ VIỆN CẦN THIẾT\n",
    "import os\n",
    "import numpy as np\n",
    "import matplotlib.pyplot as plt\n",
    "import seaborn as sns\n",
    "import tensorflow as tf\n",
    "from tensorflow.keras.preprocessing.image import ImageDataGenerator\n",
    "from tensorflow.keras.models import Sequential\n",
    "from tensorflow.keras.layers import Conv2D, MaxPooling2D, Flatten, Dense, Dropout\n",
    "from tensorflow.keras.applications import ResNet50, MobileNetV2\n",
    "from tensorflow.keras.applications.resnet50 import preprocess_input as resnet_preprocess\n",
    "from sklearn.metrics import classification_report, confusion_matrix"
   ]
  },
  {
   "cell_type": "code",
   "execution_count": null,
   "id": "a5349355",
   "metadata": {},
   "outputs": [],
   "source": [
    "# 2. KHÁM PHÁ DỮ LIỆU\n",
    "base_dir = r'F:\\tailieu\\HỌC_MÁY\\datasetriceleaf'  \n",
    "classes = os.listdir(base_dir)\n",
    "print(\"Các lớp bệnh:\", classes)\n",
    "\n",
    "class_counts = {}\n",
    "for cls in classes:\n",
    "    class_counts[cls] = len(os.listdir(os.path.join(base_dir, cls)))\n",
    "\n",
    "# Vẽ biểu đồ phân bố lớp\n",
    "plt.figure(figsize=(10, 5))\n",
    "sns.barplot(x=list(class_counts.keys()), y=list(class_counts.values()))\n",
    "plt.title(\"Phân bố ảnh theo từng lớp\")\n",
    "plt.xlabel(\"Lớp bệnh\")\n",
    "plt.ylabel(\"Số lượng ảnh\")\n",
    "plt.xticks(rotation=45)\n",
    "plt.show()"
   ]
  },
  {
   "cell_type": "code",
   "execution_count": null,
   "id": "926a4df5",
   "metadata": {},
   "outputs": [],
   "source": [
    "# 3. TIỀN XỬ LÝ VÀ CHUẨN HÓA DỮ LIỆU\n",
    "img_size = (224, 224)\n",
    "batch_size = 32\n",
    "\n",
    "# Dùng ImageDataGenerator để chia và chuẩn hóa ảnh\n",
    "datagen = ImageDataGenerator(\n",
    "    preprocessing_function=resnet_preprocess,\n",
    "    validation_split=0.2\n",
    ")\n",
    "\n",
    "train_generator = datagen.flow_from_directory(\n",
    "    base_dir,\n",
    "    target_size=img_size,\n",
    "    batch_size=batch_size,\n",
    "    class_mode='categorical',\n",
    "    subset='training'\n",
    ")\n",
    "\n",
    "val_generator = datagen.flow_from_directory(\n",
    "    base_dir,\n",
    "    target_size=img_size,\n",
    "    batch_size=batch_size,\n",
    "    class_mode='categorical',\n",
    "    subset='validation'\n",
    ")"
   ]
  },
  {
   "cell_type": "code",
   "execution_count": null,
   "id": "a5d951c2",
   "metadata": {},
   "outputs": [],
   "source": [
    "# 4. XÂY DỰNG MÔ HÌNH CNN CƠ BẢN\n",
    "model = Sequential([\n",
    "    Conv2D(32, (3, 3), activation='relu', input_shape=(224, 224, 3)),\n",
    "    MaxPooling2D(2, 2),\n",
    "    Conv2D(64, (3, 3), activation='relu'),\n",
    "    MaxPooling2D(2, 2),\n",
    "    Flatten(),\n",
    "    Dense(128, activation='relu'),\n",
    "    Dropout(0.5),\n",
    "    Dense(train_generator.num_classes, activation='softmax')\n",
    "])\n",
    "\n",
    "model.compile(optimizer='adam', loss='categorical_crossentropy', metrics=['accuracy'])\n",
    "\n",
    "# Huấn luyện mô hình cơ bản\n",
    "history = model.fit(train_generator, validation_data=val_generator, epochs=10)"
   ]
  },
  {
   "cell_type": "code",
   "execution_count": null,
   "id": "c6e8f411",
   "metadata": {},
   "outputs": [],
   "source": [
    "# 5. MÔ HÌNH PRETRAINED: RESNET50\n",
    "base_model = ResNet50(weights='imagenet', include_top=False, input_shape=(224, 224, 3))\n",
    "base_model.trainable = False\n",
    "\n",
    "model_resnet = Sequential([\n",
    "    base_model,\n",
    "    Flatten(),\n",
    "    Dense(128, activation='relu'),\n",
    "    Dropout(0.5),\n",
    "    Dense(train_generator.num_classes, activation='softmax')\n",
    "])\n",
    "\n",
    "model_resnet.compile(optimizer='adam', loss='categorical_crossentropy', metrics=['accuracy'])\n",
    "resnet_history = model_resnet.fit(train_generator, validation_data=val_generator, epochs=10)"
   ]
  },
  {
   "cell_type": "code",
   "execution_count": null,
   "id": "fa56c803",
   "metadata": {},
   "outputs": [],
   "source": [
    "# 6. ĐÁNH GIÁ MÔ HÌNH\n",
    "val_generator.reset()\n",
    "pred = model_resnet.predict(val_generator)\n",
    "y_pred = np.argmax(pred, axis=1)\n",
    "y_true = val_generator.classes\n",
    "\n",
    "print(\"Classification Report:\")\n",
    "print(classification_report(y_true, y_pred, target_names=val_generator.class_indices.keys()))\n",
    "\n",
    "# Vẽ confusion matrix\n",
    "cm = confusion_matrix(y_true, y_pred)\n",
    "plt.figure(figsize=(8, 6))\n",
    "sns.heatmap(cm, annot=True, fmt='d', cmap='Blues', xticklabels=val_generator.class_indices.keys(), yticklabels=val_generator.class_indices.keys())\n",
    "plt.xlabel('Dự đoán')\n",
    "plt.ylabel('Thực tế')\n",
    "plt.title('Confusion Matrix')\n",
    "plt.show()"
   ]
  },
  {
   "cell_type": "code",
   "execution_count": null,
   "id": "527c5c7d",
   "metadata": {},
   "outputs": [],
   "source": [
    "# 7. BIỂU ĐỒ ACCURACY VÀ LOSS\n",
    "plt.plot(resnet_history.history['accuracy'], label='Train Acc')\n",
    "plt.plot(resnet_history.history['val_accuracy'], label='Val Acc')\n",
    "plt.legend()\n",
    "plt.title(\"Accuracy theo từng epoch\")\n",
    "plt.show()\n",
    "\n",
    "plt.plot(resnet_history.history['loss'], label='Train Loss')\n",
    "plt.plot(resnet_history.history['val_loss'], label='Val Loss')\n",
    "plt.legend()\n",
    "plt.title(\"Loss theo từng epoch\")\n",
    "plt.show()"
   ]
  }
 ],
 "metadata": {
  "kernelspec": {
   "display_name": "hocmay",
   "language": "python",
   "name": "python3"
  },
  "language_info": {
   "codemirror_mode": {
    "name": "ipython",
    "version": 3
   },
   "file_extension": ".py",
   "mimetype": "text/x-python",
   "name": "python",
   "nbconvert_exporter": "python",
   "pygments_lexer": "ipython3",
   "version": "3.12.3"
  }
 },
 "nbformat": 4,
 "nbformat_minor": 5
}
